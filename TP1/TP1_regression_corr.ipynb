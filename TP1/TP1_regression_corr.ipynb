{
 "cells": [
  {
   "cell_type": "code",
   "execution_count": 146,
   "id": "673cc6b3-e230-40d0-86ee-9d30825201e4",
   "metadata": {},
   "outputs": [],
   "source": [
    "from sklearn.datasets import fetch_california_housing\n",
    "import pandas as pd"
   ]
  },
  {
   "cell_type": "code",
   "execution_count": 147,
   "id": "355a3687-b9dd-4b0a-a471-d32e14b13b9b",
   "metadata": {},
   "outputs": [],
   "source": [
    "# Chargement des données\n",
    "dataset = fetch_california_housing()"
   ]
  },
  {
   "cell_type": "code",
   "execution_count": 148,
   "id": "7530cbba-744f-48cd-b247-2fd58ec5403d",
   "metadata": {},
   "outputs": [],
   "source": [
    "# Création d'un dataframe contenant les données\n",
    "data = pd.DataFrame(dataset.data, columns=dataset.feature_names)\n",
    "data[\"Y\"] = dataset.target"
   ]
  },
  {
   "cell_type": "code",
   "execution_count": 149,
   "id": "0071e342-4a81-4bc7-8e61-7a004c146e7f",
   "metadata": {},
   "outputs": [
    {
     "data": {
      "text/html": [
       "<div>\n",
       "<style scoped>\n",
       "    .dataframe tbody tr th:only-of-type {\n",
       "        vertical-align: middle;\n",
       "    }\n",
       "\n",
       "    .dataframe tbody tr th {\n",
       "        vertical-align: top;\n",
       "    }\n",
       "\n",
       "    .dataframe thead th {\n",
       "        text-align: right;\n",
       "    }\n",
       "</style>\n",
       "<table border=\"1\" class=\"dataframe\">\n",
       "  <thead>\n",
       "    <tr style=\"text-align: right;\">\n",
       "      <th></th>\n",
       "      <th>MedInc</th>\n",
       "      <th>HouseAge</th>\n",
       "      <th>AveRooms</th>\n",
       "      <th>AveBedrms</th>\n",
       "      <th>Population</th>\n",
       "      <th>AveOccup</th>\n",
       "      <th>Latitude</th>\n",
       "      <th>Longitude</th>\n",
       "      <th>Y</th>\n",
       "    </tr>\n",
       "  </thead>\n",
       "  <tbody>\n",
       "    <tr>\n",
       "      <th>0</th>\n",
       "      <td>8.3252</td>\n",
       "      <td>41.0</td>\n",
       "      <td>6.984127</td>\n",
       "      <td>1.023810</td>\n",
       "      <td>322.0</td>\n",
       "      <td>2.555556</td>\n",
       "      <td>37.88</td>\n",
       "      <td>-122.23</td>\n",
       "      <td>4.526</td>\n",
       "    </tr>\n",
       "    <tr>\n",
       "      <th>1</th>\n",
       "      <td>8.3014</td>\n",
       "      <td>21.0</td>\n",
       "      <td>6.238137</td>\n",
       "      <td>0.971880</td>\n",
       "      <td>2401.0</td>\n",
       "      <td>2.109842</td>\n",
       "      <td>37.86</td>\n",
       "      <td>-122.22</td>\n",
       "      <td>3.585</td>\n",
       "    </tr>\n",
       "    <tr>\n",
       "      <th>2</th>\n",
       "      <td>7.2574</td>\n",
       "      <td>52.0</td>\n",
       "      <td>8.288136</td>\n",
       "      <td>1.073446</td>\n",
       "      <td>496.0</td>\n",
       "      <td>2.802260</td>\n",
       "      <td>37.85</td>\n",
       "      <td>-122.24</td>\n",
       "      <td>3.521</td>\n",
       "    </tr>\n",
       "    <tr>\n",
       "      <th>3</th>\n",
       "      <td>5.6431</td>\n",
       "      <td>52.0</td>\n",
       "      <td>5.817352</td>\n",
       "      <td>1.073059</td>\n",
       "      <td>558.0</td>\n",
       "      <td>2.547945</td>\n",
       "      <td>37.85</td>\n",
       "      <td>-122.25</td>\n",
       "      <td>3.413</td>\n",
       "    </tr>\n",
       "    <tr>\n",
       "      <th>4</th>\n",
       "      <td>3.8462</td>\n",
       "      <td>52.0</td>\n",
       "      <td>6.281853</td>\n",
       "      <td>1.081081</td>\n",
       "      <td>565.0</td>\n",
       "      <td>2.181467</td>\n",
       "      <td>37.85</td>\n",
       "      <td>-122.25</td>\n",
       "      <td>3.422</td>\n",
       "    </tr>\n",
       "  </tbody>\n",
       "</table>\n",
       "</div>"
      ],
      "text/plain": [
       "   MedInc  HouseAge  AveRooms  AveBedrms  Population  AveOccup  Latitude  \\\n",
       "0  8.3252      41.0  6.984127   1.023810       322.0  2.555556     37.88   \n",
       "1  8.3014      21.0  6.238137   0.971880      2401.0  2.109842     37.86   \n",
       "2  7.2574      52.0  8.288136   1.073446       496.0  2.802260     37.85   \n",
       "3  5.6431      52.0  5.817352   1.073059       558.0  2.547945     37.85   \n",
       "4  3.8462      52.0  6.281853   1.081081       565.0  2.181467     37.85   \n",
       "\n",
       "   Longitude      Y  \n",
       "0    -122.23  4.526  \n",
       "1    -122.22  3.585  \n",
       "2    -122.24  3.521  \n",
       "3    -122.25  3.413  \n",
       "4    -122.25  3.422  "
      ]
     },
     "execution_count": 149,
     "metadata": {},
     "output_type": "execute_result"
    }
   ],
   "source": [
    "# Affichage des 5 premières lignes\n",
    "data.head()"
   ]
  },
  {
   "cell_type": "code",
   "execution_count": 150,
   "id": "2d85a181-9352-4649-98ca-26ce303868ad",
   "metadata": {},
   "outputs": [
    {
     "name": "stdout",
     "output_type": "stream",
     "text": [
      ".. _california_housing_dataset:\n",
      "\n",
      "California Housing dataset\n",
      "--------------------------\n",
      "\n",
      "**Data Set Characteristics:**\n",
      "\n",
      "    :Number of Instances: 20640\n",
      "\n",
      "    :Number of Attributes: 8 numeric, predictive attributes and the target\n",
      "\n",
      "    :Attribute Information:\n",
      "        - MedInc        median income in block group\n",
      "        - HouseAge      median house age in block group\n",
      "        - AveRooms      average number of rooms per household\n",
      "        - AveBedrms     average number of bedrooms per household\n",
      "        - Population    block group population\n",
      "        - AveOccup      average number of household members\n",
      "        - Latitude      block group latitude\n",
      "        - Longitude     block group longitude\n",
      "\n",
      "    :Missing Attribute Values: None\n",
      "\n",
      "This dataset was obtained from the StatLib repository.\n",
      "https://www.dcc.fc.up.pt/~ltorgo/Regression/cal_housing.html\n",
      "\n",
      "The target variable is the median house value for California districts,\n",
      "expressed in hundreds of thousands of dollars ($100,000).\n",
      "\n",
      "This dataset was derived from the 1990 U.S. census, using one row per census\n",
      "block group. A block group is the smallest geographical unit for which the U.S.\n",
      "Census Bureau publishes sample data (a block group typically has a population\n",
      "of 600 to 3,000 people).\n",
      "\n",
      "An household is a group of people residing within a home. Since the average\n",
      "number of rooms and bedrooms in this dataset are provided per household, these\n",
      "columns may take surpinsingly large values for block groups with few households\n",
      "and many empty houses, such as vacation resorts.\n",
      "\n",
      "It can be downloaded/loaded using the\n",
      ":func:`sklearn.datasets.fetch_california_housing` function.\n",
      "\n",
      ".. topic:: References\n",
      "\n",
      "    - Pace, R. Kelley and Ronald Barry, Sparse Spatial Autoregressions,\n",
      "      Statistics and Probability Letters, 33 (1997) 291-297\n",
      "\n"
     ]
    }
   ],
   "source": [
    "print(dataset.DESCR)"
   ]
  },
  {
   "cell_type": "markdown",
   "id": "350fd46b-eec4-47c3-af58-dd0beb0e6a5e",
   "metadata": {},
   "source": [
    "#### 1) Expliquer ce que fait l'opération suivante"
   ]
  },
  {
   "cell_type": "code",
   "execution_count": 151,
   "id": "8b539c11-1a52-4a03-a29f-3e173e3943f5",
   "metadata": {},
   "outputs": [
    {
     "data": {
      "text/plain": [
       "MedInc        0\n",
       "HouseAge      0\n",
       "AveRooms      0\n",
       "AveBedrms     0\n",
       "Population    0\n",
       "AveOccup      0\n",
       "Latitude      0\n",
       "Longitude     0\n",
       "Y             0\n",
       "dtype: int64"
      ]
     },
     "execution_count": 151,
     "metadata": {},
     "output_type": "execute_result"
    }
   ],
   "source": [
    "data.isnull().sum()"
   ]
  },
  {
   "cell_type": "markdown",
   "id": "b130cd5a-789b-4f87-a268-731db2c76403",
   "metadata": {},
   "source": [
    "#### 2) On va maintenant séparer les covariables $(x_i)_{1\\leq i\\leq n}$ de la variable à prédire $(y_i)_{1\\leq i\\leq n}$ "
   ]
  },
  {
   "cell_type": "code",
   "execution_count": 152,
   "id": "0e3bf068-5d42-4387-bd51-17d5d1eae5f5",
   "metadata": {},
   "outputs": [],
   "source": [
    "# Covariables = toutes les colonnes du dataframe sauf la target 'Y'\n",
    "X = data.drop(columns='Y')# A compléter\n",
    "# Variable à prédire : colonne 'Y'\n",
    "Y = data.Y # A compléter"
   ]
  },
  {
   "cell_type": "markdown",
   "id": "a3224604-ea9f-4255-8375-3016891c6bdc",
   "metadata": {},
   "source": [
    "#### 3) Séparer les données (tableaux X et Y) entre apprentissage et test\n",
    "\n",
    "Utiliser la fonction `train_test_split` importée ci-dessous (n'hésitez pas à regarder la documentation pour voir comment elle fonctionne). Garder 25% des données pour le test."
   ]
  },
  {
   "cell_type": "code",
   "execution_count": 153,
   "id": "961e1e02-74f1-4d88-8628-c0fc02987e0c",
   "metadata": {},
   "outputs": [],
   "source": [
    "from sklearn.model_selection import train_test_split"
   ]
  },
  {
   "cell_type": "code",
   "execution_count": 154,
   "id": "1b9779d6-ba19-4e55-86c4-bbb1212a7677",
   "metadata": {},
   "outputs": [],
   "source": [
    "# Générer 2 matrices X_train, X_test et 2 vecteurs Y_train, Y_test contenant les covariables \n",
    "# et la variable à prédire pour les échantillons train et test\n",
    "\n",
    "X_train, X_test, Y_train, Y_test = train_test_split(X, Y, test_size=0.25, random_state=1)"
   ]
  },
  {
   "cell_type": "markdown",
   "id": "e7486a20-3935-4494-8a6c-2f8cb122b7dd",
   "metadata": {},
   "source": [
    "#### 4) Normaliser les données\n",
    "Aurait-on pu normaliser les données avant le train / test split ? Pourquoi ?\n",
    "\n",
    "Normaliser les données colonne par colonne :\n",
    "$$ x_i^{norm} = \\frac{x_i - \\widehat{\\mu}_i}{\\widehat{\\sigma_i}}$$\n",
    "où $\\widehat{\\mu}_i$ et $\\widehat{\\sigma_i}$ sont des estimateurs de la moyenne et de l'écart-type de la variable $i$.\n",
    "\n",
    "Faire la normalisation :\n",
    "+ dans un premier temps à la main\n",
    "+ dans un second temps, en utilisant le module sklearn"
   ]
  },
  {
   "cell_type": "code",
   "execution_count": 155,
   "id": "3c984a62-7803-4fdf-ba1f-69e2c377f298",
   "metadata": {},
   "outputs": [],
   "source": [
    "# A la main\n",
    "mu, sig = X_train.mean(), X_train.std()\n",
    "X_train_normed, X_test_normed = (X_train - mu)/sig, (X_test - mu)/sig"
   ]
  },
  {
   "cell_type": "code",
   "execution_count": 156,
   "id": "2f7f3a02-6f00-4d69-8178-a74893b3f351",
   "metadata": {},
   "outputs": [],
   "source": [
    "# En passant par sklearn : regarder la documentation et les exemples\n",
    "from sklearn.preprocessing import StandardScaler\n",
    "scaler = StandardScaler()\n",
    "scaler.fit(X_train)\n",
    "X_train_normed2, X_test_normed2 = scaler.transform(X_train), scaler.transform(X_test)"
   ]
  },
  {
   "cell_type": "markdown",
   "id": "9058fe64-7b65-4462-9763-f4badf62f568",
   "metadata": {},
   "source": [
    "#### 5) Entraînement d'un modèle de régression linéaire\n",
    "\n",
    "Commencer par ajouter une colonne de 1 à X_train et X_test. Ce qui correspondra à l'intercept (ordonnée à l'origine)\n",
    "\n",
    "**Rappel:** On estime les coefficients de la régression par minimisation de la somme des carrés résiduels\n",
    "$$ \\widehat{\\theta} = argmin \\vert\\vert \\boldsymbol{Y- X}\\theta \\vert\\vert_2^2$$\n",
    "\n",
    "La solution est :\n",
    "$\\widehat{\\theta} = ...$ à compléter puis l'implémenter"
   ]
  },
  {
   "cell_type": "code",
   "execution_count": 157,
   "id": "3b9579f5-b34d-4f2d-a37e-6900cca167b4",
   "metadata": {},
   "outputs": [],
   "source": [
    "X_train_normed = np.concatenate([np.ones((X_train_normed.shape[0],1)), X_train_normed], axis=1)\n",
    "X_test_normed = np.concatenate([np.ones((X_test_normed.shape[0],1)), X_test_normed], axis=1)"
   ]
  },
  {
   "cell_type": "code",
   "execution_count": 158,
   "id": "6af585a9-39d1-4e5d-8fba-6042c2b3758d",
   "metadata": {},
   "outputs": [],
   "source": [
    "import numpy as np"
   ]
  },
  {
   "cell_type": "code",
   "execution_count": 162,
   "id": "7f813819-c2cf-4926-9dd0-0802b61d3637",
   "metadata": {},
   "outputs": [],
   "source": [
    "# Calcul à la main\n",
    "theta_est = np.linalg.inv(X_train_normed.T @ X_train_normed) @ X_train_normed.T @ Y_train"
   ]
  },
  {
   "cell_type": "code",
   "execution_count": 163,
   "id": "dee4c9d2-a78d-4fbd-8adf-0b2d367bc1f7",
   "metadata": {},
   "outputs": [
    {
     "data": {
      "text/plain": [
       "array([ 2.07770667,  0.83169715,  0.12159895, -0.26759453,  0.30984998,\n",
       "       -0.00518071, -0.04040552, -0.90739833, -0.88215577])"
      ]
     },
     "execution_count": 163,
     "metadata": {},
     "output_type": "execute_result"
    }
   ],
   "source": [
    "theta_est"
   ]
  },
  {
   "cell_type": "markdown",
   "id": "4886e60f-ea27-4292-ab25-717a2c36256d",
   "metadata": {},
   "source": [
    "#### 6) Calculer les prédictions sur le jeu de test. Calculer l'accuracy et représenter l'ajustement sur un graphe predictions vs vérité)"
   ]
  },
  {
   "cell_type": "code",
   "execution_count": 164,
   "id": "82092d21-b3c2-43f2-99c5-6afe11eea9d7",
   "metadata": {},
   "outputs": [],
   "source": [
    "pred_test = X_test_normed @ theta_est"
   ]
  },
  {
   "cell_type": "code",
   "execution_count": 165,
   "id": "fe88b44a-b713-44d8-90ee-e1c85a0a305d",
   "metadata": {},
   "outputs": [
    {
     "data": {
      "text/plain": [
       "0.5356532845422556"
      ]
     },
     "execution_count": 165,
     "metadata": {},
     "output_type": "execute_result"
    }
   ],
   "source": [
    "((pred_test-Y_test)**2).mean()"
   ]
  },
  {
   "cell_type": "code",
   "execution_count": 166,
   "id": "cda1dfc4-c79f-4c50-987a-44594537add8",
   "metadata": {},
   "outputs": [
    {
     "data": {
      "text/plain": [
       "[<matplotlib.lines.Line2D at 0x7ff191c6b430>]"
      ]
     },
     "execution_count": 166,
     "metadata": {},
     "output_type": "execute_result"
    },
    {
     "data": {
      "image/png": "[encoded data removed]",
      "text/plain": [
       "<Figure size 640x480 with 1 Axes>"
      ]
     },
     "metadata": {},
     "output_type": "display_data"
    }
   ],
   "source": [
    "import matplotlib.pyplot as plt\n",
    "plt.scatter(Y_test, pred_test, s=5)\n",
    "plt.plot([0,5], [0,5], color=\"red\")"
   ]
  },
  {
   "cell_type": "markdown",
   "id": "12c8e2ca-f1df-4884-9dc5-25dfc92d93c2",
   "metadata": {},
   "source": [
    "#### Même chose en utilisant scikit-learn"
   ]
  },
  {
   "cell_type": "code",
   "execution_count": 167,
   "id": "401e4229-620c-48d4-8ed1-6bbf652f0d5e",
   "metadata": {},
   "outputs": [],
   "source": [
    "from sklearn.linear_model import LinearRegression"
   ]
  },
  {
   "cell_type": "code",
   "execution_count": 168,
   "id": "77c9b20f-3977-4a19-a76c-cefb34d222ce",
   "metadata": {},
   "outputs": [],
   "source": [
    "lr_model = LinearRegression(fit_intercept=False)"
   ]
  },
  {
   "cell_type": "code",
   "execution_count": 171,
   "id": "902e1655-eeed-4021-9dfa-28793f258596",
   "metadata": {},
   "outputs": [
    {
     "data": {
      "text/plain": [
       "LinearRegression(fit_intercept=False)"
      ]
     },
     "execution_count": 171,
     "metadata": {},
     "output_type": "execute_result"
    }
   ],
   "source": [
    "lr_model.fit(X_train_normed, Y_train)"
   ]
  },
  {
   "cell_type": "code",
   "execution_count": 172,
   "id": "fa1f94cd-c93f-48a7-8c10-fc1b73fffaff",
   "metadata": {},
   "outputs": [
    {
     "data": {
      "text/plain": [
       "array([ 2.07770667,  0.83169715,  0.12159895, -0.26759453,  0.30984998,\n",
       "       -0.00518071, -0.04040552, -0.90739833, -0.88215577])"
      ]
     },
     "execution_count": 172,
     "metadata": {},
     "output_type": "execute_result"
    }
   ],
   "source": [
    "lr_model.coef_"
   ]
  },
  {
   "cell_type": "markdown",
   "id": "92085926-02e3-4620-822b-29cc32ef85e2",
   "metadata": {},
   "source": [
    "#### 7) Ranger toutes ces étapes dans une fonction\n",
    "On évaluera avec le coefficient de détermination R2 importé ci-dessous"
   ]
  },
  {
   "cell_type": "code",
   "execution_count": 175,
   "id": "374ab7a3-e3d8-4675-a96e-f3a0c93930d0",
   "metadata": {},
   "outputs": [],
   "source": [
    "from sklearn.metrics import r2_score"
   ]
  },
  {
   "cell_type": "code",
   "execution_count": 176,
   "id": "d0b9670e-1dd1-4e10-99e3-a03fe48ea907",
   "metadata": {},
   "outputs": [],
   "source": [
    "def train_and_eval(model, X, Y, random_state=0):\n",
    "    '''\n",
    "    Arguments :\n",
    "        - model (instance de modèle de régression scikit-learn)\n",
    "        - X : covariables\n",
    "        - Y : variable à prédire\n",
    "        - random_state : seed pour l'initialisation du générateur aléatoire\n",
    "    '''\n",
    "    # Train test split\n",
    "    X_train, X_test, Y_train, Y_test = train_test_split(X, Y, test_size=0.25, random_state=random_state)\n",
    "    # Normalisation\n",
    "    scaler = StandardScaler()\n",
    "    scaler.fit(X_train)\n",
    "    X_train_normed, X_test_normed = scaler.transform(X_train), scaler.transform(X_test)\n",
    "    # Ajout de l'intercept (facultatif)\n",
    "    X_train_normed = np.concatenate([np.ones((X_train_normed.shape[0],1)), X_train_normed], axis=1)\n",
    "    X_test_normed = np.concatenate([np.ones((X_test_normed.shape[0],1)), X_test_normed], axis=1)\n",
    "    # Entraînement du modèle\n",
    "    model.fit(X_train_normed, Y_train)\n",
    "    # Evaluation : r2 score \n",
    "    return r2_score(Y_test, model.predict(X_test_normed))"
   ]
  },
  {
   "cell_type": "markdown",
   "id": "4f4f0741-619b-4fcf-94fc-2602be2d3f07",
   "metadata": {},
   "source": [
    "#### 8) Appliquer cette fonction à la régression linéaire et répéter 100 fois le processus (apprentissage + évaluation). Puis représenter la dispersion des résultats obtenus sur un histogramme.\n"
   ]
  },
  {
   "cell_type": "code",
   "execution_count": 177,
   "id": "a528f24a-0728-4836-8bdf-225c9d570af5",
   "metadata": {},
   "outputs": [],
   "source": [
    "lr_model = LinearRegression(fit_intercept=False)"
   ]
  },
  {
   "cell_type": "code",
   "execution_count": 178,
   "id": "489517a4-4eea-421c-ac4e-5034b77a7bd0",
   "metadata": {},
   "outputs": [],
   "source": [
    "r2_scores_lr = [train_and_eval(lr_model, X, Y, k) for k in range(100)]"
   ]
  },
  {
   "cell_type": "code",
   "execution_count": 180,
   "id": "416c2b23-64d5-42aa-a095-f88ff65ea781",
   "metadata": {},
   "outputs": [
    {
     "data": {
      "image/png": "[encoded data removed]",
      "text/plain": [
       "<Figure size 640x480 with 1 Axes>"
      ]
     },
     "metadata": {},
     "output_type": "display_data"
    }
   ],
   "source": [
    "plt.hist(r2_scores_lr)\n",
    "plt.show()"
   ]
  },
  {
   "cell_type": "markdown",
   "id": "2f087660-753d-48aa-8102-16f25d6396bf",
   "metadata": {},
   "source": [
    "#### 9) Procéder de même en changeant le modèle prédictif : par exemple en utilisant les K plus proches voisins\n",
    "\n",
    "Si l'on considère la moyenne des scores obtenus sur les répétitions, est-ce une estimation :\n",
    "+ de l'erreur conditionnelle ?\n",
    "+ de l'erreur moyenne (intégrée) ?\n",
    "\n",
    "Quel modèle semble le plus performant ? Peut-on le valider statistiquement ?"
   ]
  },
  {
   "cell_type": "code",
   "execution_count": 181,
   "id": "235184a1-ce24-4ba5-acb7-036dd0ba88f1",
   "metadata": {},
   "outputs": [],
   "source": [
    "from sklearn.neighbors import KNeighborsRegressor"
   ]
  },
  {
   "cell_type": "code",
   "execution_count": 182,
   "id": "cdb4e590-9e02-49db-9d98-7e57b21aa68c",
   "metadata": {},
   "outputs": [],
   "source": [
    "knn_model = KNeighborsRegressor()"
   ]
  },
  {
   "cell_type": "code",
   "execution_count": 183,
   "id": "815429bd-43af-443f-ad8e-97e90dc10580",
   "metadata": {},
   "outputs": [],
   "source": [
    "r2_scores_knn = [train_and_eval(knn_model, X, Y, k) for k in range(100)]"
   ]
  },
  {
   "cell_type": "code",
   "execution_count": 184,
   "id": "70844e84-ce51-46c7-8bee-83b45154cde3",
   "metadata": {},
   "outputs": [],
   "source": [
    "from sklearn.ensemble import RandomForestRegressor"
   ]
  },
  {
   "cell_type": "code",
   "execution_count": 185,
   "id": "8df49722-448e-4e9a-a913-e890cce22cc2",
   "metadata": {},
   "outputs": [],
   "source": [
    "rf_model = RandomForestRegressor(n_estimators=10)"
   ]
  },
  {
   "cell_type": "code",
   "execution_count": 186,
   "id": "ed187971-8f11-42d0-bb44-d1613454d4f0",
   "metadata": {},
   "outputs": [],
   "source": [
    "r2_scores_rf = [train_and_eval(rf_model, X, Y, k) for k in range(100)]"
   ]
  },
  {
   "cell_type": "code",
   "execution_count": 187,
   "id": "04760c76-82ba-489d-b636-cae278d67a70",
   "metadata": {},
   "outputs": [
    {
     "data": {
      "image/png": "[encoded data removed]",
      "text/plain": [
       "<Figure size 640x480 with 1 Axes>"
      ]
     },
     "metadata": {},
     "output_type": "display_data"
    }
   ],
   "source": [
    "plt.hist(r2_scores_lr, color='blue', alpha=0.5)\n",
    "plt.hist(r2_scores_knn, color='green', alpha=0.5)\n",
    "plt.hist(r2_scores_rf, color='red', alpha=0.5)\n",
    "plt.show()"
   ]
  },
  {
   "cell_type": "code",
   "execution_count": null,
   "id": "1dd9e80f-8e64-4812-a8d2-78baad0d5d6d",
   "metadata": {},
   "outputs": [],
   "source": []
  }
 ],
 "metadata": {
  "kernelspec": {
   "display_name": "Python 3 (ipykernel)",
   "language": "python",
   "name": "python3"
  },
  "language_info": {
   "codemirror_mode": {
    "name": "ipython",
    "version": 3
   },
   "file_extension": ".py",
   "mimetype": "text/x-python",
   "name": "python",
   "nbconvert_exporter": "python",
   "pygments_lexer": "ipython3",
   "version": "3.9.13"
  }
 },
 "nbformat": 4,
 "nbformat_minor": 5
}
