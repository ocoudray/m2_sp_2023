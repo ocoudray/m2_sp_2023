{
 "cells": [
  {
   "cell_type": "markdown",
   "id": "64c37b04-aff9-4585-aaf6-0804ac75c9ea",
   "metadata": {},
   "source": [
    "# TP 1 : Introduction à Python et à son utilisation pour l'apprentissage supervisé"
   ]
  },
  {
   "cell_type": "markdown",
   "id": "3f7876d1-8e87-4c03-a389-72fab7d0f28d",
   "metadata": {},
   "source": [
    "## Les types"
   ]
  },
  {
   "cell_type": "code",
   "execution_count": 1,
   "id": "84c76148-0400-4b17-b01f-2d543fb581b4",
   "metadata": {},
   "outputs": [
    {
     "name": "stdout",
     "output_type": "stream",
     "text": [
      "5\n"
     ]
    }
   ],
   "source": [
    "# les entiers int\n",
    "print(5)"
   ]
  },
  {
   "cell_type": "code",
   "execution_count": 3,
   "id": "7e349790-4f08-4305-84b5-19b755ffde12",
   "metadata": {},
   "outputs": [
    {
     "data": {
      "text/plain": [
       "int"
      ]
     },
     "execution_count": 3,
     "metadata": {},
     "output_type": "execute_result"
    }
   ],
   "source": [
    "type(5)"
   ]
  },
  {
   "cell_type": "code",
   "execution_count": 2,
   "id": "fc68e8d1-86db-446a-994a-a1998c647958",
   "metadata": {},
   "outputs": [
    {
     "name": "stdout",
     "output_type": "stream",
     "text": [
      "3.14\n"
     ]
    }
   ],
   "source": [
    "# les nombres décimaux\n",
    "print(3.14)"
   ]
  },
  {
   "cell_type": "code",
   "execution_count": 4,
   "id": "56e6c639-169a-444e-b8c2-202e5a5595d9",
   "metadata": {},
   "outputs": [
    {
     "data": {
      "text/plain": [
       "float"
      ]
     },
     "execution_count": 4,
     "metadata": {},
     "output_type": "execute_result"
    }
   ],
   "source": [
    "type(3.14)"
   ]
  },
  {
   "cell_type": "code",
   "execution_count": 5,
   "id": "51d5d8de-0b76-4bcc-875e-e0ed18b237cf",
   "metadata": {},
   "outputs": [
    {
     "name": "stdout",
     "output_type": "stream",
     "text": [
      "Hello\n"
     ]
    }
   ],
   "source": [
    "# les string\n",
    "print(\"Hello\")"
   ]
  },
  {
   "cell_type": "code",
   "execution_count": 6,
   "id": "8abdfa52-a2c2-4588-80fb-a2bbe2045587",
   "metadata": {},
   "outputs": [
    {
     "data": {
      "text/plain": [
       "str"
      ]
     },
     "execution_count": 6,
     "metadata": {},
     "output_type": "execute_result"
    }
   ],
   "source": [
    "type(\"Hello\")"
   ]
  },
  {
   "cell_type": "code",
   "execution_count": 9,
   "id": "291097ec-15ce-44b9-a1e4-b43c643d36ce",
   "metadata": {},
   "outputs": [
    {
     "name": "stdout",
     "output_type": "stream",
     "text": [
      "True\n"
     ]
    }
   ],
   "source": [
    "# Les booléens : seule la première lettre est en majuscule\n",
    "print(True)"
   ]
  },
  {
   "cell_type": "code",
   "execution_count": 10,
   "id": "684b27a9-aa55-45b9-883a-44f43ed3217f",
   "metadata": {},
   "outputs": [
    {
     "data": {
      "text/plain": [
       "bool"
      ]
     },
     "execution_count": 10,
     "metadata": {},
     "output_type": "execute_result"
    }
   ],
   "source": [
    "type(False)"
   ]
  },
  {
   "cell_type": "code",
   "execution_count": 18,
   "id": "1ee6b8e9-5d11-469a-a302-ccbe9a2efefd",
   "metadata": {},
   "outputs": [],
   "source": [
    "# Les listes\n",
    "l = [\"ABC\", 12, False, 3.5, True]"
   ]
  },
  {
   "cell_type": "code",
   "execution_count": 19,
   "id": "9b709078-2bfb-4e26-81ff-11cbcb1f0f9a",
   "metadata": {},
   "outputs": [
    {
     "data": {
      "text/plain": [
       "'ABC'"
      ]
     },
     "execution_count": 19,
     "metadata": {},
     "output_type": "execute_result"
    }
   ],
   "source": [
    "# Les indices commencent à 0 \n",
    "l[0]"
   ]
  },
  {
   "cell_type": "code",
   "execution_count": 21,
   "id": "95870c06-bc08-4a20-a2b1-25e469e01b51",
   "metadata": {},
   "outputs": [
    {
     "ename": "IndexError",
     "evalue": "list index out of range",
     "output_type": "error",
     "traceback": [
      "\u001b[0;31m---------------------------------------------------------------------------\u001b[0m",
      "\u001b[0;31mIndexError\u001b[0m                                Traceback (most recent call last)",
      "Cell \u001b[0;32mIn[21], line 1\u001b[0m\n\u001b[0;32m----> 1\u001b[0m \u001b[43ml\u001b[49m\u001b[43m[\u001b[49m\u001b[38;5;241;43m5\u001b[39;49m\u001b[43m]\u001b[49m\n",
      "\u001b[0;31mIndexError\u001b[0m: list index out of range"
     ]
    }
   ],
   "source": [
    "l[5] # Erreur"
   ]
  },
  {
   "cell_type": "code",
   "execution_count": 22,
   "id": "2aec93f9-4bbd-46de-bbc2-42e29de2c3f2",
   "metadata": {},
   "outputs": [
    {
     "data": {
      "text/plain": [
       "5"
      ]
     },
     "execution_count": 22,
     "metadata": {},
     "output_type": "execute_result"
    }
   ],
   "source": [
    "# Longueur d'une liste\n",
    "len(l)"
   ]
  },
  {
   "cell_type": "code",
   "execution_count": 48,
   "id": "314633de-146c-4d32-8275-003ff17ac156",
   "metadata": {},
   "outputs": [],
   "source": [
    "# Ajout d'un élément\n",
    "l.append(\"new element\")"
   ]
  },
  {
   "cell_type": "code",
   "execution_count": 49,
   "id": "531de700-5065-4609-9143-a7d8fbf97661",
   "metadata": {},
   "outputs": [
    {
     "data": {
      "text/plain": [
       "7"
      ]
     },
     "execution_count": 49,
     "metadata": {},
     "output_type": "execute_result"
    }
   ],
   "source": [
    "len(l)"
   ]
  },
  {
   "cell_type": "code",
   "execution_count": 50,
   "id": "89075f7e-8b2b-42c4-bd8d-9a70e2175478",
   "metadata": {},
   "outputs": [],
   "source": [
    "# Les dictionnaires\n",
    "d = {\"A\":1, \"B\":3.4, \"cle\":\"valeur\"}"
   ]
  },
  {
   "cell_type": "code",
   "execution_count": 51,
   "id": "807527b4-3d6f-4101-9b64-31df7fe3d724",
   "metadata": {},
   "outputs": [
    {
     "data": {
      "text/plain": [
       "1"
      ]
     },
     "execution_count": 51,
     "metadata": {},
     "output_type": "execute_result"
    }
   ],
   "source": [
    "d[\"A\"]"
   ]
  },
  {
   "cell_type": "code",
   "execution_count": 52,
   "id": "ee914873-53e9-422d-8773-313f78da628e",
   "metadata": {},
   "outputs": [],
   "source": [
    "d[\"new_key\"] = \"new_value\""
   ]
  },
  {
   "cell_type": "code",
   "execution_count": 53,
   "id": "b2f27315-cb8d-400a-8ec8-6627c532d34f",
   "metadata": {},
   "outputs": [
    {
     "data": {
      "text/plain": [
       "dict_keys(['A', 'B', 'cle', 'new_key'])"
      ]
     },
     "execution_count": 53,
     "metadata": {},
     "output_type": "execute_result"
    }
   ],
   "source": [
    "# liste des clés\n",
    "d.keys()"
   ]
  },
  {
   "cell_type": "code",
   "execution_count": 54,
   "id": "c5d475ea-1aac-4f75-bf49-dd59392b98df",
   "metadata": {},
   "outputs": [
    {
     "data": {
      "text/plain": [
       "dict_values([1, 3.4, 'valeur', 'new_value'])"
      ]
     },
     "execution_count": 54,
     "metadata": {},
     "output_type": "execute_result"
    }
   ],
   "source": [
    "# liste des valeurs\n",
    "d.values()"
   ]
  },
  {
   "cell_type": "markdown",
   "id": "bf5f6697-2241-4dba-8f53-c6ac1973f684",
   "metadata": {},
   "source": [
    "## Calculatrice"
   ]
  },
  {
   "cell_type": "code",
   "execution_count": 11,
   "id": "da74efc2-8cfb-4aa7-a2bb-e769bc75f84f",
   "metadata": {},
   "outputs": [
    {
     "data": {
      "text/plain": [
       "8"
      ]
     },
     "execution_count": 11,
     "metadata": {},
     "output_type": "execute_result"
    }
   ],
   "source": [
    "2 + 6"
   ]
  },
  {
   "cell_type": "code",
   "execution_count": 12,
   "id": "a63b6a8e-d388-4ac1-9409-9d275e130c45",
   "metadata": {},
   "outputs": [
    {
     "data": {
      "text/plain": [
       "-2.5999999999999996"
      ]
     },
     "execution_count": 12,
     "metadata": {},
     "output_type": "execute_result"
    }
   ],
   "source": [
    "3 - 5.6"
   ]
  },
  {
   "cell_type": "code",
   "execution_count": 13,
   "id": "78fe4b6a-0951-46e9-aef3-18373d94d711",
   "metadata": {},
   "outputs": [
    {
     "data": {
      "text/plain": [
       "24"
      ]
     },
     "execution_count": 13,
     "metadata": {},
     "output_type": "execute_result"
    }
   ],
   "source": [
    "3 * 4 + 12 "
   ]
  },
  {
   "cell_type": "code",
   "execution_count": 14,
   "id": "bb9b3e1f-6a42-42b4-a047-e9e8a160018f",
   "metadata": {},
   "outputs": [
    {
     "data": {
      "text/plain": [
       "1.75"
      ]
     },
     "execution_count": 14,
     "metadata": {},
     "output_type": "execute_result"
    }
   ],
   "source": [
    "# Division\n",
    "7 / 4"
   ]
  },
  {
   "cell_type": "code",
   "execution_count": 15,
   "id": "62247a78-bc02-4710-ba36-7549a5ce04da",
   "metadata": {},
   "outputs": [
    {
     "data": {
      "text/plain": [
       "1"
      ]
     },
     "execution_count": 15,
     "metadata": {},
     "output_type": "execute_result"
    }
   ],
   "source": [
    "# Division euclidienne : quotient\n",
    "7 // 4"
   ]
  },
  {
   "cell_type": "code",
   "execution_count": 16,
   "id": "7a2d7941-03bb-4daa-bc19-a5d744ee4f4f",
   "metadata": {},
   "outputs": [
    {
     "data": {
      "text/plain": [
       "3"
      ]
     },
     "execution_count": 16,
     "metadata": {},
     "output_type": "execute_result"
    }
   ],
   "source": [
    "# Division euclidienne : reste\n",
    "7 % 4"
   ]
  },
  {
   "cell_type": "code",
   "execution_count": 35,
   "id": "073b8b06-7f68-4dba-a1ed-68d82ce9f8bc",
   "metadata": {},
   "outputs": [
    {
     "name": "stdout",
     "output_type": "stream",
     "text": [
      "True\n",
      "False\n",
      "False\n",
      "True\n",
      "True\n"
     ]
    }
   ],
   "source": [
    "# Comparaisons\n",
    "print(3+4 == 7)\n",
    "print(3+4 != 7)\n",
    "print(len(\"hello\") < 5)\n",
    "print(len(\"hello\") >= 5)\n",
    "print(12 in l)"
   ]
  },
  {
   "cell_type": "markdown",
   "id": "debc2b0e-24dc-49e6-9123-0c9880358cf2",
   "metadata": {},
   "source": [
    "## Boucles et conditions"
   ]
  },
  {
   "cell_type": "code",
   "execution_count": 30,
   "id": "e5baee93-cb55-42ff-a960-29e8cef9789d",
   "metadata": {},
   "outputs": [
    {
     "name": "stdout",
     "output_type": "stream",
     "text": [
      "0\n",
      "2\n",
      "4\n",
      "6\n",
      "8\n"
     ]
    }
   ],
   "source": [
    "# Boucle for : essayer de faire varier les paramètres start, end et step\n",
    "start, end, step = 0, 10,2\n",
    "for k in range(start, end, step):\n",
    "    print(k)"
   ]
  },
  {
   "cell_type": "code",
   "execution_count": 31,
   "id": "1cf6f673-a5ac-4f46-8866-1c008ec455f2",
   "metadata": {},
   "outputs": [
    {
     "name": "stdout",
     "output_type": "stream",
     "text": [
      "0\n",
      "2\n",
      "4\n",
      "6\n",
      "8\n"
     ]
    }
   ],
   "source": [
    "# Boucle while\n",
    "k = start\n",
    "while k < end:\n",
    "    print(k)\n",
    "    k = k + step"
   ]
  },
  {
   "cell_type": "code",
   "execution_count": 38,
   "id": "edb96647-17ab-485d-82a0-17d9f255ca61",
   "metadata": {},
   "outputs": [
    {
     "name": "stdout",
     "output_type": "stream",
     "text": [
      "start = 0\n"
     ]
    }
   ],
   "source": [
    "# Conditions\n",
    "if start == 0:\n",
    "    print(\"start = 0\")\n",
    "elif start == 1:\n",
    "    print(\"start = 1\")\n",
    "elif start == 2:\n",
    "    print(\"start = 2\")\n",
    "else:\n",
    "    print(\"start != 0, 1, 2\")"
   ]
  },
  {
   "cell_type": "markdown",
   "id": "978cf3ee-05eb-4a73-89a9-fdc956fd3c4b",
   "metadata": {},
   "source": [
    "## Fonctions"
   ]
  },
  {
   "cell_type": "code",
   "execution_count": 39,
   "id": "c10040d7-d015-4e7a-b3c4-e24c57d2e2be",
   "metadata": {},
   "outputs": [],
   "source": [
    "def somme(x1, x2):\n",
    "    return x1 + x2"
   ]
  },
  {
   "cell_type": "code",
   "execution_count": 40,
   "id": "8b4fd645-d746-4137-9826-218a9415d41e",
   "metadata": {},
   "outputs": [
    {
     "data": {
      "text/plain": [
       "11"
      ]
     },
     "execution_count": 40,
     "metadata": {},
     "output_type": "execute_result"
    }
   ],
   "source": [
    "somme(3, 8)"
   ]
  },
  {
   "cell_type": "code",
   "execution_count": 1,
   "id": "371b89b0-3834-4f43-acfb-9b3cf69c8691",
   "metadata": {},
   "outputs": [],
   "source": [
    "# Ecrire une fonction `fact` qui prend en entrée un entier n et retourne n!\n",
    "\n",
    "def fact(n):\n",
    "    # A compléter\n",
    "    pass"
   ]
  },
  {
   "cell_type": "code",
   "execution_count": 2,
   "id": "fcb36e0c-a4a2-46da-a511-cf18fca70e66",
   "metadata": {},
   "outputs": [],
   "source": [
    "fact(6)"
   ]
  },
  {
   "cell_type": "markdown",
   "id": "002540b2-8417-4687-ac53-b7495208c11d",
   "metadata": {},
   "source": [
    "# Import de librairies\n",
    "\n",
    "On les mets en général en début de script ou dans la première cellule du notebook.\n",
    "On donne souvent un \"alias\" à la librairie pour condenser l'écriture lorsqu'on y fait appel."
   ]
  },
  {
   "cell_type": "code",
   "execution_count": 3,
   "id": "e2d35bae-db01-4b77-80d6-696d0688b4f1",
   "metadata": {},
   "outputs": [],
   "source": [
    "import numpy as np                                 # pour les vecteurs et l'algèbre linéaire\n",
    "import pandas as pd                                # pour les dataframe : manipulation de tableaux\n",
    "import matplotlib.pyplot as plt                    # pour la visualisation\n",
    "import sklearn as sk                               # pour les méthodes d'apprentissage\n",
    "from sklearn.metrics import mean_absolute_error    # pour importer une fonction particulière d'un module"
   ]
  },
  {
   "cell_type": "markdown",
   "id": "92092698-1ad0-48ad-bf23-ee680e8c07ac",
   "metadata": {},
   "source": [
    "On peut également accéder à la documentation d'une fonction ou d'un objet"
   ]
  },
  {
   "cell_type": "code",
   "execution_count": 4,
   "id": "404e1d4c-fe66-4779-96d4-1b021f9dfac3",
   "metadata": {},
   "outputs": [
    {
     "name": "stdout",
     "output_type": "stream",
     "text": [
      "Help on function mean_absolute_error in module sklearn.metrics._regression:\n",
      "\n",
      "mean_absolute_error(y_true, y_pred, *, sample_weight=None, multioutput='uniform_average')\n",
      "    Mean absolute error regression loss.\n",
      "    \n",
      "    Read more in the :ref:`User Guide <mean_absolute_error>`.\n",
      "    \n",
      "    Parameters\n",
      "    ----------\n",
      "    y_true : array-like of shape (n_samples,) or (n_samples, n_outputs)\n",
      "        Ground truth (correct) target values.\n",
      "    \n",
      "    y_pred : array-like of shape (n_samples,) or (n_samples, n_outputs)\n",
      "        Estimated target values.\n",
      "    \n",
      "    sample_weight : array-like of shape (n_samples,), default=None\n",
      "        Sample weights.\n",
      "    \n",
      "    multioutput : {'raw_values', 'uniform_average'}  or array-like of shape             (n_outputs,), default='uniform_average'\n",
      "        Defines aggregating of multiple output values.\n",
      "        Array-like value defines weights used to average errors.\n",
      "    \n",
      "        'raw_values' :\n",
      "            Returns a full set of errors in case of multioutput input.\n",
      "    \n",
      "        'uniform_average' :\n",
      "            Errors of all outputs are averaged with uniform weight.\n",
      "    \n",
      "    Returns\n",
      "    -------\n",
      "    loss : float or ndarray of floats\n",
      "        If multioutput is 'raw_values', then mean absolute error is returned\n",
      "        for each output separately.\n",
      "        If multioutput is 'uniform_average' or an ndarray of weights, then the\n",
      "        weighted average of all output errors is returned.\n",
      "    \n",
      "        MAE output is non-negative floating point. The best value is 0.0.\n",
      "    \n",
      "    Examples\n",
      "    --------\n",
      "    >>> from sklearn.metrics import mean_absolute_error\n",
      "    >>> y_true = [3, -0.5, 2, 7]\n",
      "    >>> y_pred = [2.5, 0.0, 2, 8]\n",
      "    >>> mean_absolute_error(y_true, y_pred)\n",
      "    0.5\n",
      "    >>> y_true = [[0.5, 1], [-1, 1], [7, -6]]\n",
      "    >>> y_pred = [[0, 2], [-1, 2], [8, -5]]\n",
      "    >>> mean_absolute_error(y_true, y_pred)\n",
      "    0.75\n",
      "    >>> mean_absolute_error(y_true, y_pred, multioutput='raw_values')\n",
      "    array([0.5, 1. ])\n",
      "    >>> mean_absolute_error(y_true, y_pred, multioutput=[0.3, 0.7])\n",
      "    0.85...\n",
      "\n"
     ]
    }
   ],
   "source": [
    "help(mean_absolute_error)"
   ]
  },
  {
   "cell_type": "code",
   "execution_count": 5,
   "id": "6f5aa6f7-0845-4980-9adb-326097ac2150",
   "metadata": {},
   "outputs": [
    {
     "data": {
      "text/plain": [
       "\u001b[0;31mSignature:\u001b[0m\n",
       "\u001b[0mmean_absolute_error\u001b[0m\u001b[0;34m(\u001b[0m\u001b[0;34m\u001b[0m\n",
       "\u001b[0;34m\u001b[0m    \u001b[0my_true\u001b[0m\u001b[0;34m,\u001b[0m\u001b[0;34m\u001b[0m\n",
       "\u001b[0;34m\u001b[0m    \u001b[0my_pred\u001b[0m\u001b[0;34m,\u001b[0m\u001b[0;34m\u001b[0m\n",
       "\u001b[0;34m\u001b[0m    \u001b[0;34m*\u001b[0m\u001b[0;34m,\u001b[0m\u001b[0;34m\u001b[0m\n",
       "\u001b[0;34m\u001b[0m    \u001b[0msample_weight\u001b[0m\u001b[0;34m=\u001b[0m\u001b[0;32mNone\u001b[0m\u001b[0;34m,\u001b[0m\u001b[0;34m\u001b[0m\n",
       "\u001b[0;34m\u001b[0m    \u001b[0mmultioutput\u001b[0m\u001b[0;34m=\u001b[0m\u001b[0;34m'uniform_average'\u001b[0m\u001b[0;34m,\u001b[0m\u001b[0;34m\u001b[0m\n",
       "\u001b[0;34m\u001b[0m\u001b[0;34m)\u001b[0m\u001b[0;34m\u001b[0m\u001b[0;34m\u001b[0m\u001b[0m\n",
       "\u001b[0;31mDocstring:\u001b[0m\n",
       "Mean absolute error regression loss.\n",
       "\n",
       "Read more in the :ref:`User Guide <mean_absolute_error>`.\n",
       "\n",
       "Parameters\n",
       "----------\n",
       "y_true : array-like of shape (n_samples,) or (n_samples, n_outputs)\n",
       "    Ground truth (correct) target values.\n",
       "\n",
       "y_pred : array-like of shape (n_samples,) or (n_samples, n_outputs)\n",
       "    Estimated target values.\n",
       "\n",
       "sample_weight : array-like of shape (n_samples,), default=None\n",
       "    Sample weights.\n",
       "\n",
       "multioutput : {'raw_values', 'uniform_average'}  or array-like of shape             (n_outputs,), default='uniform_average'\n",
       "    Defines aggregating of multiple output values.\n",
       "    Array-like value defines weights used to average errors.\n",
       "\n",
       "    'raw_values' :\n",
       "        Returns a full set of errors in case of multioutput input.\n",
       "\n",
       "    'uniform_average' :\n",
       "        Errors of all outputs are averaged with uniform weight.\n",
       "\n",
       "Returns\n",
       "-------\n",
       "loss : float or ndarray of floats\n",
       "    If multioutput is 'raw_values', then mean absolute error is returned\n",
       "    for each output separately.\n",
       "    If multioutput is 'uniform_average' or an ndarray of weights, then the\n",
       "    weighted average of all output errors is returned.\n",
       "\n",
       "    MAE output is non-negative floating point. The best value is 0.0.\n",
       "\n",
       "Examples\n",
       "--------\n",
       ">>> from sklearn.metrics import mean_absolute_error\n",
       ">>> y_true = [3, -0.5, 2, 7]\n",
       ">>> y_pred = [2.5, 0.0, 2, 8]\n",
       ">>> mean_absolute_error(y_true, y_pred)\n",
       "0.5\n",
       ">>> y_true = [[0.5, 1], [-1, 1], [7, -6]]\n",
       ">>> y_pred = [[0, 2], [-1, 2], [8, -5]]\n",
       ">>> mean_absolute_error(y_true, y_pred)\n",
       "0.75\n",
       ">>> mean_absolute_error(y_true, y_pred, multioutput='raw_values')\n",
       "array([0.5, 1. ])\n",
       ">>> mean_absolute_error(y_true, y_pred, multioutput=[0.3, 0.7])\n",
       "0.85...\n",
       "\u001b[0;31mFile:\u001b[0m      ~/anaconda3/envs/data_challenge/lib/python3.9/site-packages/sklearn/metrics/_regression.py\n",
       "\u001b[0;31mType:\u001b[0m      function"
      ]
     },
     "metadata": {},
     "output_type": "display_data"
    }
   ],
   "source": [
    "mean_absolute_error?"
   ]
  },
  {
   "cell_type": "markdown",
   "id": "cde2c223-15fa-4f30-9590-8420e65f106b",
   "metadata": {},
   "source": [
    "## Algèbre linéaire"
   ]
  },
  {
   "cell_type": "markdown",
   "id": "c7659d59-fa80-456f-87f6-6e935a27e6e7",
   "metadata": {},
   "source": [
    "Les numpy array permettent de représenter des tableaux (vecteurs, matrices...) de taille fixe (contrairement aux listes)"
   ]
  },
  {
   "cell_type": "code",
   "execution_count": 6,
   "id": "3ce0afde-b521-4deb-bb0f-8f54fff6400d",
   "metadata": {},
   "outputs": [
    {
     "name": "stdout",
     "output_type": "stream",
     "text": [
      "[1 0 3 6]\n",
      "[[ 1  8 12 -2]\n",
      " [ 4  2 -5  9]\n",
      " [-5  3  6 34]]\n"
     ]
    }
   ],
   "source": [
    "vect = np.array([1, 0, 3, 6])  # vecteur\n",
    "M = np.array([[1, 8, 12, -2],\n",
    "              [4, 2, -5, 9],\n",
    "              [-5, 3, 6, 34]])\n",
    "print(vect)\n",
    "print(M)"
   ]
  },
  {
   "cell_type": "code",
   "execution_count": 7,
   "id": "6e1b1936-1d54-4066-b9db-af744292a3d0",
   "metadata": {},
   "outputs": [
    {
     "name": "stdout",
     "output_type": "stream",
     "text": [
      "6\n",
      "9\n"
     ]
    }
   ],
   "source": [
    "# Accès aux éléments\n",
    "print(vect[3])\n",
    "print(M[1, 3])"
   ]
  },
  {
   "cell_type": "code",
   "execution_count": 8,
   "id": "82643e39-02b2-4c6a-80cb-5c7853674cb3",
   "metadata": {},
   "outputs": [
    {
     "name": "stdout",
     "output_type": "stream",
     "text": [
      "(4,)\n",
      "(3, 4)\n"
     ]
    }
   ],
   "source": [
    "# Taille et dimension des array\n",
    "print(vect.shape)\n",
    "print(M.shape)"
   ]
  },
  {
   "cell_type": "code",
   "execution_count": 9,
   "id": "f6cb86ac-53d9-406d-900c-9a6201b111f3",
   "metadata": {},
   "outputs": [
    {
     "name": "stdout",
     "output_type": "stream",
     "text": [
      "[[ 1  4 -5]\n",
      " [ 8  2  3]\n",
      " [12 -5  6]\n",
      " [-2  9 34]]\n",
      "[[   1   64  144    4]\n",
      " [  16    4   25   81]\n",
      " [  25    9   36 1156]]\n",
      "[[ 213  -58   23]\n",
      " [ -58  126  262]\n",
      " [  23  262 1226]]\n",
      "[[ 213  -58   23]\n",
      " [ -58  126  262]\n",
      " [  23  262 1226]]\n",
      "[ 25  43 217]\n",
      "[[ 0.00640906  0.00575959 -0.00135108]\n",
      " [ 0.00575959  0.01945964 -0.00426664]\n",
      " [-0.00135108 -0.00426664  0.0017528 ]]\n"
     ]
    }
   ],
   "source": [
    "# Opérations\n",
    "print(M.T)     # Transposition\n",
    "print(M * M)   # Multiplication terme à terme\n",
    "print(np.dot(M, M.T))   # Multiplication matricielle\n",
    "print(M @ M.T)          # Idem\n",
    "print(M @ vect)                 # Fonctionne aussi avec un vecteur\n",
    "print(np.linalg.inv(M @ M.T))   # Inverse"
   ]
  },
  {
   "cell_type": "markdown",
   "id": "9602ea1d-e119-446c-859d-5e095d9345d5",
   "metadata": {},
   "source": [
    "Ecrire une fonction qui prend en entrée une matrice carrée A (n, n) inversible et un vecteur b de taille n, et renvoie la solution au problème linéaire :\n",
    "$$ A x = b \\ .$$\n",
    "Si A n'est pas inversible et/ou si les tailles de A et b ne sont pas compatibles, la fonction retournera \"erreur\""
   ]
  },
  {
   "cell_type": "code",
   "execution_count": 10,
   "id": "50714e28-da9b-4830-962b-6189ccc6ef8a",
   "metadata": {},
   "outputs": [],
   "source": [
    "# Remarque : pour la lisibilité du code, on peut spécifier les types des variables attendues en entrée de la fonction\n",
    "\n",
    "def solution(A:np.array, b:np.array):\n",
    "    # A compléter\n",
    "    pass"
   ]
  },
  {
   "cell_type": "code",
   "execution_count": 11,
   "id": "46f22085-63ad-4223-9dfa-771448f93156",
   "metadata": {},
   "outputs": [],
   "source": [
    "solution(np.array([[1, 2], [3, 4]]), np.array([6, 8]))"
   ]
  },
  {
   "cell_type": "markdown",
   "id": "02acfa08-4e81-4a5e-ae29-e392e5fa1a87",
   "metadata": {},
   "source": [
    "Quelques raccourcis pour définir certains vecteurs et matrices"
   ]
  },
  {
   "cell_type": "code",
   "execution_count": 12,
   "id": "ef136fb8-94f5-4a98-af77-5dc676cf1290",
   "metadata": {},
   "outputs": [
    {
     "name": "stdout",
     "output_type": "stream",
     "text": [
      "[ 0  1  2  3  4  5  6  7  8  9 10 11 12 13 14 15 16 17 18 19 20 21 22 23\n",
      " 24 25 26 27 28 29]\n",
      "[ 0  2  4  6  8 10 12 14 16 18 20 22 24 26 28]\n",
      "[[0. 0. 0.]\n",
      " [0. 0. 0.]\n",
      " [0. 0. 0.]\n",
      " [0. 0. 0.]\n",
      " [0. 0. 0.]]\n",
      "[[ 4  0  0]\n",
      " [ 0 -1  0]\n",
      " [ 0  0  4]]\n",
      "[[1. 0.]\n",
      " [0. 1.]]\n"
     ]
    }
   ],
   "source": [
    "print(np.arange(30))             # tous les entiers de 0 à 30 (le début 0 et le pas 1 sont implicites)\n",
    "print(np.arange(0, 30, 2))       # idem mais seulements les entiers pairs\n",
    "print(np.zeros((5, 3)))          # matrice contenant des 0\n",
    "print(np.diag([4, -1, 4]))       # matrice diagonale\n",
    "print(np.eye(2))                 # identité"
   ]
  },
  {
   "cell_type": "code",
   "execution_count": 13,
   "id": "327ab951-a176-451d-80c4-f7d90d9f63cb",
   "metadata": {},
   "outputs": [
    {
     "name": "stdout",
     "output_type": "stream",
     "text": [
      "[ 0  1  4  9 16 25 36 49 64 81]\n",
      "[1.00000000e+00 2.71828183e+00 7.38905610e+00 2.00855369e+01\n",
      " 5.45981500e+01 1.48413159e+02 4.03428793e+02 1.09663316e+03\n",
      " 2.98095799e+03 8.10308393e+03]\n",
      "[ 1.          0.54030231 -0.41614684 -0.9899925  -0.65364362  0.28366219\n",
      "  0.96017029  0.75390225 -0.14550003 -0.91113026]\n"
     ]
    }
   ],
   "source": [
    "# La plupart des opérations sont vectorisées -> pas besoin de passer par des boucles !\n",
    "x1 = np.arange(10)\n",
    "print(x1**2)               # carré\n",
    "print(np.exp(x1))          # exponentielle\n",
    "print(np.cos(x1))          # cosinus\n",
    "# ......"
   ]
  },
  {
   "cell_type": "markdown",
   "id": "e1698515-a7d2-4cdd-a469-7e7d1d81b34a",
   "metadata": {},
   "source": [
    "Slicing pour sélectionner plusieurs éléments"
   ]
  },
  {
   "cell_type": "code",
   "execution_count": 14,
   "id": "f5c7de9a-fe0f-42bf-9898-7c304bb32c0b",
   "metadata": {},
   "outputs": [
    {
     "name": "stdout",
     "output_type": "stream",
     "text": [
      "[5 6 7 8 9]\n",
      "[0 1 2 3 4 5 6 7 8 9]\n",
      "[90 91 92 93 94 95 96 97 98 99]\n"
     ]
    }
   ],
   "source": [
    "long_vector = np.arange(100)\n",
    "print(long_vector[5:10])        # affichage des valeurs d'indice de 5 à 10 (10 exclu)\n",
    "print(long_vector[:10])         # les 10 premières valeurs\n",
    "print(long_vector[90:])         # toutes les valeurs après l'indice 90 (inclu)"
   ]
  },
  {
   "cell_type": "code",
   "execution_count": 15,
   "id": "a4b3eab8-11f6-455a-b757-cee0971eb88f",
   "metadata": {},
   "outputs": [
    {
     "data": {
      "text/plain": [
       "array([[0, 0, 0, 0],\n",
       "       [0, 0, 7, 0],\n",
       "       [0, 0, 0, 9]])"
      ]
     },
     "execution_count": 15,
     "metadata": {},
     "output_type": "execute_result"
    }
   ],
   "source": [
    "M = np.diag([2, 0, 7, 9])\n",
    "M[1:, :]                    # affichage de la matrice privée de sa première ligne (d'indice 0)"
   ]
  },
  {
   "cell_type": "markdown",
   "id": "d070d84d-381b-4252-92f2-32688a521b00",
   "metadata": {},
   "source": [
    "## Fonctions de probabilité\n",
    "\n",
    "On en trouve déjà pas mal dans numpy. Sinon, il y en a davantage dans scipy"
   ]
  },
  {
   "cell_type": "code",
   "execution_count": 16,
   "id": "7a50c2a0-05b6-485d-8dfa-e9a5ca5c156a",
   "metadata": {},
   "outputs": [
    {
     "name": "stdout",
     "output_type": "stream",
     "text": [
      "[[ 0.22973817 -1.69831469  0.57927396  0.50727395  0.3336068 ]\n",
      " [ 0.04977155  0.67314305 -0.69872228 -0.41323688 -1.05509894]\n",
      " [ 0.19608254 -1.71877922 -0.16238277 -1.89407988  1.43477036]\n",
      " [-0.82931513  0.01343407  0.22905285 -0.74614307 -1.93665057]\n",
      " [-1.52433127  0.79558595 -0.82293844  0.29267518  0.87349632]]\n"
     ]
    }
   ],
   "source": [
    "X = np.random.randn(5, 5)    # matrice 5*5 dont les entrées sont des variables aléatoires iid de loi normale centrée réduite\n",
    "print(X)"
   ]
  },
  {
   "cell_type": "code",
   "execution_count": 17,
   "id": "8d0c8f8a-1c9e-4c50-9b06-2a44dd51b8f6",
   "metadata": {},
   "outputs": [
    {
     "data": {
      "text/plain": [
       "array([0.61282825, 0.46505459, 0.95405947, 0.20369888])"
      ]
     },
     "execution_count": 17,
     "metadata": {},
     "output_type": "execute_result"
    }
   ],
   "source": [
    "np.random.rand(4)            # idem avec une loi uniforme sur [0, 1]"
   ]
  },
  {
   "cell_type": "code",
   "execution_count": 18,
   "id": "fc694c14-39ce-44e3-ab62-ad3dc8fd7b9f",
   "metadata": {},
   "outputs": [],
   "source": [
    "# Simuler un vecteur de taille 50 contenant des variables iid de loi N(2, 4)\n",
    "vect = "
   ]
  },
  {
   "cell_type": "code",
   "execution_count": 19,
   "id": "57dcccb5-4f13-46a7-9849-97d0391a1420",
   "metadata": {},
   "outputs": [
    {
     "data": {
      "text/plain": [
       "array([ 1.72132231, -1.85679523,  0.89054048,  0.1325901 , -2.17531372,\n",
       "        2.1326532 ,  3.29363047,  0.94547853,  1.98349822,  2.29807549,\n",
       "        3.02782193,  1.58111554,  1.56306347,  3.78268549,  3.63107572,\n",
       "        3.49069906,  4.5156069 ,  3.16854627,  5.32115541,  0.80118674,\n",
       "        5.60489116,  1.15403544,  3.00965661, -1.1605577 ,  4.68453093,\n",
       "        2.30362742,  1.12323336, -2.60632065,  0.47702534,  4.06054642,\n",
       "        0.52070509,  1.52360732, -0.9168136 ,  2.08027052,  1.16188839,\n",
       "        0.33548798,  2.03856934,  1.95604531, -0.60827515,  1.36585739,\n",
       "        2.01640689, -0.23809918,  1.34737521,  3.23679159,  4.36238476,\n",
       "        5.29796127,  2.36257223,  0.75101712,  2.96396089,  0.96354468])"
      ]
     },
     "execution_count": 19,
     "metadata": {},
     "output_type": "execute_result"
    }
   ],
   "source": [
    "vect"
   ]
  },
  {
   "cell_type": "markdown",
   "id": "fc7ad3de-cdf0-4381-944c-c9b49b8003a6",
   "metadata": {},
   "source": [
    "## Les dataframes (pandas)\n",
    "\n",
    "Il s'agit d'objets très importants : on s'en servira très souvent pendant les TPs.\n",
    "\n",
    "Il s'agit ni plus ni moins qu'un tableau dans lequel les colonnes et les lignes peuvent avoir des labels."
   ]
  },
  {
   "cell_type": "code",
   "execution_count": 20,
   "id": "2e2f90f6-f14e-476b-9a59-93386d143048",
   "metadata": {},
   "outputs": [],
   "source": [
    "df = pd.DataFrame(np.random.randn(100, 5), columns = [\"x1\", \"x2\", \"x3\", \"x4\", \"x5\"])"
   ]
  },
  {
   "cell_type": "code",
   "execution_count": 21,
   "id": "134ce929-552b-4b25-b2c1-d937b227b7eb",
   "metadata": {},
   "outputs": [
    {
     "data": {
      "text/html": [
       "<div>\n",
       "<style scoped>\n",
       "    .dataframe tbody tr th:only-of-type {\n",
       "        vertical-align: middle;\n",
       "    }\n",
       "\n",
       "    .dataframe tbody tr th {\n",
       "        vertical-align: top;\n",
       "    }\n",
       "\n",
       "    .dataframe thead th {\n",
       "        text-align: right;\n",
       "    }\n",
       "</style>\n",
       "<table border=\"1\" class=\"dataframe\">\n",
       "  <thead>\n",
       "    <tr style=\"text-align: right;\">\n",
       "      <th></th>\n",
       "      <th>x1</th>\n",
       "      <th>x2</th>\n",
       "      <th>x3</th>\n",
       "      <th>x4</th>\n",
       "      <th>x5</th>\n",
       "    </tr>\n",
       "  </thead>\n",
       "  <tbody>\n",
       "    <tr>\n",
       "      <th>0</th>\n",
       "      <td>-2.189106</td>\n",
       "      <td>-0.899083</td>\n",
       "      <td>-0.669487</td>\n",
       "      <td>0.268659</td>\n",
       "      <td>0.753424</td>\n",
       "    </tr>\n",
       "    <tr>\n",
       "      <th>1</th>\n",
       "      <td>0.585308</td>\n",
       "      <td>-0.644892</td>\n",
       "      <td>0.769183</td>\n",
       "      <td>-1.099530</td>\n",
       "      <td>-0.513338</td>\n",
       "    </tr>\n",
       "    <tr>\n",
       "      <th>2</th>\n",
       "      <td>0.271061</td>\n",
       "      <td>-1.045466</td>\n",
       "      <td>0.560704</td>\n",
       "      <td>0.370380</td>\n",
       "      <td>-0.493623</td>\n",
       "    </tr>\n",
       "    <tr>\n",
       "      <th>3</th>\n",
       "      <td>1.143627</td>\n",
       "      <td>2.500227</td>\n",
       "      <td>0.327872</td>\n",
       "      <td>-0.204930</td>\n",
       "      <td>-1.010999</td>\n",
       "    </tr>\n",
       "    <tr>\n",
       "      <th>4</th>\n",
       "      <td>0.861508</td>\n",
       "      <td>-0.567087</td>\n",
       "      <td>-1.088361</td>\n",
       "      <td>0.375597</td>\n",
       "      <td>-0.286768</td>\n",
       "    </tr>\n",
       "  </tbody>\n",
       "</table>\n",
       "</div>"
      ],
      "text/plain": [
       "         x1        x2        x3        x4        x5\n",
       "0 -2.189106 -0.899083 -0.669487  0.268659  0.753424\n",
       "1  0.585308 -0.644892  0.769183 -1.099530 -0.513338\n",
       "2  0.271061 -1.045466  0.560704  0.370380 -0.493623\n",
       "3  1.143627  2.500227  0.327872 -0.204930 -1.010999\n",
       "4  0.861508 -0.567087 -1.088361  0.375597 -0.286768"
      ]
     },
     "execution_count": 21,
     "metadata": {},
     "output_type": "execute_result"
    }
   ],
   "source": [
    "# Afficher les 5 première lignes\n",
    "df.head()"
   ]
  },
  {
   "cell_type": "code",
   "execution_count": 23,
   "id": "d1f79bbb-878c-44e6-a8c1-766845b5e37b",
   "metadata": {},
   "outputs": [
    {
     "data": {
      "text/plain": [
       "(100, 5)"
      ]
     },
     "execution_count": 23,
     "metadata": {},
     "output_type": "execute_result"
    }
   ],
   "source": [
    "# Taille du tableau\n",
    "df.shape"
   ]
  },
  {
   "cell_type": "code",
   "execution_count": 24,
   "id": "4b7a2abe-c794-4ea2-b5d8-ffb86048a18e",
   "metadata": {},
   "outputs": [
    {
     "data": {
      "text/plain": [
       "0    -2.189106\n",
       "1     0.585308\n",
       "2     0.271061\n",
       "3     1.143627\n",
       "4     0.861508\n",
       "        ...   \n",
       "95    1.544400\n",
       "96   -0.185253\n",
       "97    0.503627\n",
       "98   -1.414255\n",
       "99   -0.434051\n",
       "Name: x1, Length: 100, dtype: float64"
      ]
     },
     "execution_count": 24,
     "metadata": {},
     "output_type": "execute_result"
    }
   ],
   "source": [
    "# Accéder aux valeurs d'une colonne\n",
    "df[\"x1\"]    # ou df.x1"
   ]
  },
  {
   "cell_type": "code",
   "execution_count": 25,
   "id": "3b018705-732e-4f88-9f97-ec0fbf29f07f",
   "metadata": {},
   "outputs": [
    {
     "data": {
      "text/html": [
       "<div>\n",
       "<style scoped>\n",
       "    .dataframe tbody tr th:only-of-type {\n",
       "        vertical-align: middle;\n",
       "    }\n",
       "\n",
       "    .dataframe tbody tr th {\n",
       "        vertical-align: top;\n",
       "    }\n",
       "\n",
       "    .dataframe thead th {\n",
       "        text-align: right;\n",
       "    }\n",
       "</style>\n",
       "<table border=\"1\" class=\"dataframe\">\n",
       "  <thead>\n",
       "    <tr style=\"text-align: right;\">\n",
       "      <th></th>\n",
       "      <th>x2</th>\n",
       "      <th>x4</th>\n",
       "    </tr>\n",
       "  </thead>\n",
       "  <tbody>\n",
       "    <tr>\n",
       "      <th>5</th>\n",
       "      <td>0.177914</td>\n",
       "      <td>-0.661606</td>\n",
       "    </tr>\n",
       "    <tr>\n",
       "      <th>6</th>\n",
       "      <td>-0.199103</td>\n",
       "      <td>-0.082433</td>\n",
       "    </tr>\n",
       "    <tr>\n",
       "      <th>7</th>\n",
       "      <td>0.201616</td>\n",
       "      <td>1.000791</td>\n",
       "    </tr>\n",
       "    <tr>\n",
       "      <th>8</th>\n",
       "      <td>1.966704</td>\n",
       "      <td>-1.508188</td>\n",
       "    </tr>\n",
       "    <tr>\n",
       "      <th>9</th>\n",
       "      <td>1.000591</td>\n",
       "      <td>-1.015909</td>\n",
       "    </tr>\n",
       "    <tr>\n",
       "      <th>10</th>\n",
       "      <td>1.533837</td>\n",
       "      <td>0.242385</td>\n",
       "    </tr>\n",
       "  </tbody>\n",
       "</table>\n",
       "</div>"
      ],
      "text/plain": [
       "          x2        x4\n",
       "5   0.177914 -0.661606\n",
       "6  -0.199103 -0.082433\n",
       "7   0.201616  1.000791\n",
       "8   1.966704 -1.508188\n",
       "9   1.000591 -1.015909\n",
       "10  1.533837  0.242385"
      ]
     },
     "execution_count": 25,
     "metadata": {},
     "output_type": "execute_result"
    }
   ],
   "source": [
    "# Utilisation du slicing\n",
    "df.loc[5:10, [\"x2\", \"x4\"]]"
   ]
  },
  {
   "cell_type": "code",
   "execution_count": 26,
   "id": "5567e972-80ad-49fc-9af5-5ad7366f90c4",
   "metadata": {},
   "outputs": [],
   "source": [
    "# Définition d'une nouvelle colonne\n",
    "df[\"Y\"] = df.x1 + 3 * df.x2 - 2 * df.x4"
   ]
  },
  {
   "cell_type": "code",
   "execution_count": 27,
   "id": "9c04970e-0a7f-4c51-9832-f072f4d478af",
   "metadata": {},
   "outputs": [
    {
     "data": {
      "text/plain": [
       "0    -1.362415\n",
       "1     0.232430\n",
       "2     0.098329\n",
       "3     1.012587\n",
       "4     0.114117\n",
       "        ...   \n",
       "95   -0.616210\n",
       "96    0.602844\n",
       "97    0.916576\n",
       "98    1.139474\n",
       "99    1.028410\n",
       "Length: 100, dtype: float64"
      ]
     },
     "execution_count": 27,
     "metadata": {},
     "output_type": "execute_result"
    }
   ],
   "source": [
    "# Application d'une fonction terme à terme\n",
    "def f(row):\n",
    "    return np.cos(row.x1) + np.sin(row.x2)\n",
    "df.apply(f, axis=1)\n",
    "\n",
    "# Idem que pour les numpy array : éviter de faire des boucles !"
   ]
  },
  {
   "cell_type": "code",
   "execution_count": 29,
   "id": "60bcb7df-16b2-4095-a718-67ac628a648a",
   "metadata": {},
   "outputs": [],
   "source": [
    "# Sur le même modèle : appliquer une fonction sur df (ligne par ligne) qui renvoie une colonnes de booléens :\n",
    "#     - True si la somme des éléments de la ligne est positive\n",
    "#     - False sinon\n",
    "\n",
    "def pos_sum(row):\n",
    "    # A compléter\n",
    "    pass\n",
    "\n",
    "# utiliser le apply\n",
    "# A compléter"
   ]
  },
  {
   "cell_type": "markdown",
   "id": "24af270a-093a-4df6-9436-5d3c388cc601",
   "metadata": {},
   "source": [
    "## Visualisation"
   ]
  },
  {
   "cell_type": "code",
   "execution_count": 30,
   "id": "424cb39b-2fbc-4bd7-9c39-6a66a6ce6a49",
   "metadata": {},
   "outputs": [
    {
     "data": {
      "image/png": "[encoded data removed]",
      "text/plain": [
       "<Figure size 640x480 with 1 Axes>"
      ]
     },
     "metadata": {},
     "output_type": "display_data"
    }
   ],
   "source": [
    "# Scatter plot\n",
    "plt.scatter(df.x2, df.Y, label=\"legende\")\n",
    "plt.xlabel(\"x1\")\n",
    "plt.ylabel(\"x2\")\n",
    "plt.legend()\n",
    "plt.show()"
   ]
  },
  {
   "cell_type": "code",
   "execution_count": 31,
   "id": "0634f9eb-e53a-4199-afd3-37b84ebacce4",
   "metadata": {},
   "outputs": [
    {
     "data": {
      "image/png": "[encoded data removed]",
      "text/plain": [
       "<Figure size 640x480 with 1 Axes>"
      ]
     },
     "metadata": {},
     "output_type": "display_data"
    }
   ],
   "source": [
    "# Ajout d'une ligne\n",
    "plt.scatter(df.x2, df.Y, label=\"legende\")\n",
    "plt.plot([-3, 0, 2], [-9, 0, 6], color=\"red\")\n",
    "plt.xlabel(\"x1\")\n",
    "plt.ylabel(\"x2\")\n",
    "plt.legend()\n",
    "plt.show()"
   ]
  },
  {
   "cell_type": "code",
   "execution_count": 32,
   "id": "d607c5a8-fc1a-40c5-a1e6-6e9c0ed857aa",
   "metadata": {},
   "outputs": [
    {
     "data": {
      "image/png": "[encoded data removed]",
      "text/plain": [
       "<Figure size 640x480 with 1 Axes>"
      ]
     },
     "metadata": {},
     "output_type": "display_data"
    }
   ],
   "source": [
    "# Histogrammes\n",
    "plt.hist(df.x3, bins=10, density=True)\n",
    "plt.show()"
   ]
  },
  {
   "cell_type": "code",
   "execution_count": 33,
   "id": "7d1029f0-0f24-44d1-a1da-9b105b3a84fe",
   "metadata": {},
   "outputs": [],
   "source": [
    "# Générer un échantillon de loi normale centrée réduite de taille 1000.\n",
    "# Représentez-le sous forme d'histogramme\n",
    "# Superposez la fonction de densité : on pourra d'abord générer une liste x d'abscisses (np.linspace) \n",
    "# puis appliquer la fonction de densité que l'on peut retrouver dans scipy.stats\n",
    "from scipy.stats import norm"
   ]
  },
  {
   "cell_type": "code",
   "execution_count": 180,
   "id": "32f22b46-918f-4186-9018-bf441db96ea4",
   "metadata": {},
   "outputs": [],
   "source": [
    "# simulation de l'échantillon\n",
    "X = \n",
    "# abscisses pour le tracé de la densité : utiliser np.linspace\n",
    "x = \n",
    "#  valeurs de densité correspondant aux abscisses : utiliser norm.pdf\n",
    "y =                 "
   ]
  },
  {
   "cell_type": "code",
   "execution_count": 34,
   "id": "5f5eee3c-2f97-4919-85bd-84e04bc908be",
   "metadata": {},
   "outputs": [],
   "source": [
    "# A compléter : représentation graphique\n"
   ]
  },
  {
   "cell_type": "code",
   "execution_count": 134,
   "id": "c66248d6-7c78-4ea5-adb0-4a2fe9384cc5",
   "metadata": {},
   "outputs": [
    {
     "data": {
      "text/plain": [
       "\u001b[0;31mSignature:\u001b[0m \u001b[0mnorm\u001b[0m\u001b[0;34m.\u001b[0m\u001b[0mpdf\u001b[0m\u001b[0;34m(\u001b[0m\u001b[0mx\u001b[0m\u001b[0;34m,\u001b[0m \u001b[0;34m*\u001b[0m\u001b[0margs\u001b[0m\u001b[0;34m,\u001b[0m \u001b[0;34m**\u001b[0m\u001b[0mkwds\u001b[0m\u001b[0;34m)\u001b[0m\u001b[0;34m\u001b[0m\u001b[0;34m\u001b[0m\u001b[0m\n",
       "\u001b[0;31mDocstring:\u001b[0m\n",
       "Probability density function at x of the given RV.\n",
       "\n",
       "Parameters\n",
       "----------\n",
       "x : array_like\n",
       "    quantiles\n",
       "arg1, arg2, arg3,... : array_like\n",
       "    The shape parameter(s) for the distribution (see docstring of the\n",
       "    instance object for more information)\n",
       "loc : array_like, optional\n",
       "    location parameter (default=0)\n",
       "scale : array_like, optional\n",
       "    scale parameter (default=1)\n",
       "\n",
       "Returns\n",
       "-------\n",
       "pdf : ndarray\n",
       "    Probability density function evaluated at x\n",
       "\u001b[0;31mFile:\u001b[0m      ~/anaconda3/envs/data_challenge/lib/python3.9/site-packages/scipy/stats/_distn_infrastructure.py\n",
       "\u001b[0;31mType:\u001b[0m      method"
      ]
     },
     "metadata": {},
     "output_type": "display_data"
    }
   ],
   "source": [
    "# Documentation pour la fonction de densité\n",
    "norm.pdf?"
   ]
  },
  {
   "cell_type": "code",
   "execution_count": 139,
   "id": "5dc075f4-9313-4820-b35f-8597c48fdf9a",
   "metadata": {},
   "outputs": [
    {
     "data": {
      "text/plain": [
       "\u001b[0;31mSignature:\u001b[0m      \n",
       "\u001b[0mnp\u001b[0m\u001b[0;34m.\u001b[0m\u001b[0mlinspace\u001b[0m\u001b[0;34m(\u001b[0m\u001b[0;34m\u001b[0m\n",
       "\u001b[0;34m\u001b[0m    \u001b[0mstart\u001b[0m\u001b[0;34m,\u001b[0m\u001b[0;34m\u001b[0m\n",
       "\u001b[0;34m\u001b[0m    \u001b[0mstop\u001b[0m\u001b[0;34m,\u001b[0m\u001b[0;34m\u001b[0m\n",
       "\u001b[0;34m\u001b[0m    \u001b[0mnum\u001b[0m\u001b[0;34m=\u001b[0m\u001b[0;36m50\u001b[0m\u001b[0;34m,\u001b[0m\u001b[0;34m\u001b[0m\n",
       "\u001b[0;34m\u001b[0m    \u001b[0mendpoint\u001b[0m\u001b[0;34m=\u001b[0m\u001b[0;32mTrue\u001b[0m\u001b[0;34m,\u001b[0m\u001b[0;34m\u001b[0m\n",
       "\u001b[0;34m\u001b[0m    \u001b[0mretstep\u001b[0m\u001b[0;34m=\u001b[0m\u001b[0;32mFalse\u001b[0m\u001b[0;34m,\u001b[0m\u001b[0;34m\u001b[0m\n",
       "\u001b[0;34m\u001b[0m    \u001b[0mdtype\u001b[0m\u001b[0;34m=\u001b[0m\u001b[0;32mNone\u001b[0m\u001b[0;34m,\u001b[0m\u001b[0;34m\u001b[0m\n",
       "\u001b[0;34m\u001b[0m    \u001b[0maxis\u001b[0m\u001b[0;34m=\u001b[0m\u001b[0;36m0\u001b[0m\u001b[0;34m,\u001b[0m\u001b[0;34m\u001b[0m\n",
       "\u001b[0;34m\u001b[0m\u001b[0;34m)\u001b[0m\u001b[0;34m\u001b[0m\u001b[0;34m\u001b[0m\u001b[0m\n",
       "\u001b[0;31mCall signature:\u001b[0m  \u001b[0mnp\u001b[0m\u001b[0;34m.\u001b[0m\u001b[0mlinspace\u001b[0m\u001b[0;34m(\u001b[0m\u001b[0;34m*\u001b[0m\u001b[0margs\u001b[0m\u001b[0;34m,\u001b[0m \u001b[0;34m**\u001b[0m\u001b[0mkwargs\u001b[0m\u001b[0;34m)\u001b[0m\u001b[0;34m\u001b[0m\u001b[0;34m\u001b[0m\u001b[0m\n",
       "\u001b[0;31mType:\u001b[0m            _ArrayFunctionDispatcher\n",
       "\u001b[0;31mString form:\u001b[0m     <function linspace at 0x7fdb8fe053a0>\n",
       "\u001b[0;31mFile:\u001b[0m            ~/anaconda3/envs/data_challenge/lib/python3.9/site-packages/numpy/core/function_base.py\n",
       "\u001b[0;31mDocstring:\u001b[0m      \n",
       "Return evenly spaced numbers over a specified interval.\n",
       "\n",
       "Returns `num` evenly spaced samples, calculated over the\n",
       "interval [`start`, `stop`].\n",
       "\n",
       "The endpoint of the interval can optionally be excluded.\n",
       "\n",
       ".. versionchanged:: 1.16.0\n",
       "    Non-scalar `start` and `stop` are now supported.\n",
       "\n",
       ".. versionchanged:: 1.20.0\n",
       "    Values are rounded towards ``-inf`` instead of ``0`` when an\n",
       "    integer ``dtype`` is specified. The old behavior can\n",
       "    still be obtained with ``np.linspace(start, stop, num).astype(int)``\n",
       "\n",
       "Parameters\n",
       "----------\n",
       "start : array_like\n",
       "    The starting value of the sequence.\n",
       "stop : array_like\n",
       "    The end value of the sequence, unless `endpoint` is set to False.\n",
       "    In that case, the sequence consists of all but the last of ``num + 1``\n",
       "    evenly spaced samples, so that `stop` is excluded.  Note that the step\n",
       "    size changes when `endpoint` is False.\n",
       "num : int, optional\n",
       "    Number of samples to generate. Default is 50. Must be non-negative.\n",
       "endpoint : bool, optional\n",
       "    If True, `stop` is the last sample. Otherwise, it is not included.\n",
       "    Default is True.\n",
       "retstep : bool, optional\n",
       "    If True, return (`samples`, `step`), where `step` is the spacing\n",
       "    between samples.\n",
       "dtype : dtype, optional\n",
       "    The type of the output array.  If `dtype` is not given, the data type\n",
       "    is inferred from `start` and `stop`. The inferred dtype will never be\n",
       "    an integer; `float` is chosen even if the arguments would produce an\n",
       "    array of integers.\n",
       "\n",
       "    .. versionadded:: 1.9.0\n",
       "\n",
       "axis : int, optional\n",
       "    The axis in the result to store the samples.  Relevant only if start\n",
       "    or stop are array-like.  By default (0), the samples will be along a\n",
       "    new axis inserted at the beginning. Use -1 to get an axis at the end.\n",
       "\n",
       "    .. versionadded:: 1.16.0\n",
       "\n",
       "Returns\n",
       "-------\n",
       "samples : ndarray\n",
       "    There are `num` equally spaced samples in the closed interval\n",
       "    ``[start, stop]`` or the half-open interval ``[start, stop)``\n",
       "    (depending on whether `endpoint` is True or False).\n",
       "step : float, optional\n",
       "    Only returned if `retstep` is True\n",
       "\n",
       "    Size of spacing between samples.\n",
       "\n",
       "\n",
       "See Also\n",
       "--------\n",
       "arange : Similar to `linspace`, but uses a step size (instead of the\n",
       "         number of samples).\n",
       "geomspace : Similar to `linspace`, but with numbers spaced evenly on a log\n",
       "            scale (a geometric progression).\n",
       "logspace : Similar to `geomspace`, but with the end points specified as\n",
       "           logarithms.\n",
       ":ref:`how-to-partition`\n",
       "\n",
       "Examples\n",
       "--------\n",
       ">>> np.linspace(2.0, 3.0, num=5)\n",
       "array([2.  , 2.25, 2.5 , 2.75, 3.  ])\n",
       ">>> np.linspace(2.0, 3.0, num=5, endpoint=False)\n",
       "array([2. ,  2.2,  2.4,  2.6,  2.8])\n",
       ">>> np.linspace(2.0, 3.0, num=5, retstep=True)\n",
       "(array([2.  ,  2.25,  2.5 ,  2.75,  3.  ]), 0.25)\n",
       "\n",
       "Graphical illustration:\n",
       "\n",
       ">>> import matplotlib.pyplot as plt\n",
       ">>> N = 8\n",
       ">>> y = np.zeros(N)\n",
       ">>> x1 = np.linspace(0, 10, N, endpoint=True)\n",
       ">>> x2 = np.linspace(0, 10, N, endpoint=False)\n",
       ">>> plt.plot(x1, y, 'o')\n",
       "[<matplotlib.lines.Line2D object at 0x...>]\n",
       ">>> plt.plot(x2, y + 0.5, 'o')\n",
       "[<matplotlib.lines.Line2D object at 0x...>]\n",
       ">>> plt.ylim([-0.5, 1])\n",
       "(-0.5, 1)\n",
       ">>> plt.show()\n",
       "\u001b[0;31mClass docstring:\u001b[0m\n",
       "Class to wrap functions with checks for __array_function__ overrides.\n",
       "\n",
       "All arguments are required, and can only be passed by position.\n",
       "\n",
       "Parameters\n",
       "----------\n",
       "dispatcher : function or None\n",
       "    The dispatcher function that returns a single sequence-like object\n",
       "    of all arguments relevant.  It must have the same signature (except\n",
       "    the default values) as the actual implementation.\n",
       "    If ``None``, this is a ``like=`` dispatcher and the\n",
       "    ``_ArrayFunctionDispatcher`` must be called with ``like`` as the\n",
       "    first (additional and positional) argument.\n",
       "implementation : function\n",
       "    Function that implements the operation on NumPy arrays without\n",
       "    overrides.  Arguments passed calling the ``_ArrayFunctionDispatcher``\n",
       "    will be forwarded to this (and the ``dispatcher``) as if using\n",
       "    ``*args, **kwargs``.\n",
       "\n",
       "Attributes\n",
       "----------\n",
       "_implementation : function\n",
       "    The original implementation passed in."
      ]
     },
     "metadata": {},
     "output_type": "display_data"
    }
   ],
   "source": [
    "# documentation pour np.linspace\n",
    "np.linspace?"
   ]
  },
  {
   "cell_type": "markdown",
   "id": "db2cda8a-5063-46e1-87fb-6c2c559329f4",
   "metadata": {},
   "source": [
    "## En cas d'erreur\n",
    "\n",
    "+ bien lire le message d'erreur que renvoie le notebook ou la console : il indique a minima la cause de l'erreur et la ligne concernée\n",
    "+ si l'erreur est peu explicite ou pas compréhensible : https://stackoverflow.com/"
   ]
  },
  {
   "cell_type": "code",
   "execution_count": null,
   "id": "e163b42a-e4f7-4661-ae93-53fb67157e30",
   "metadata": {},
   "outputs": [],
   "source": []
  }
 ],
 "metadata": {
  "kernelspec": {
   "display_name": "cours",
   "language": "python",
   "name": "cours"
  },
  "language_info": {
   "codemirror_mode": {
    "name": "ipython",
    "version": 3
   },
   "file_extension": ".py",
   "mimetype": "text/x-python",
   "name": "python",
   "nbconvert_exporter": "python",
   "pygments_lexer": "ipython3",
   "version": "3.9.17"
  }
 },
 "nbformat": 4,
 "nbformat_minor": 5
}
